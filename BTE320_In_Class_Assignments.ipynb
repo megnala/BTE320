{
  "nbformat": 4,
  "nbformat_minor": 0,
  "metadata": {
    "colab": {
      "provenance": [],
      "authorship_tag": "ABX9TyPL6Phs2R5XtL2SLvMTbO4K",
      "include_colab_link": true
    },
    "kernelspec": {
      "name": "python3",
      "display_name": "Python 3"
    },
    "language_info": {
      "name": "python"
    }
  },
  "cells": [
    {
      "cell_type": "markdown",
      "metadata": {
        "id": "view-in-github",
        "colab_type": "text"
      },
      "source": [
        "<a href=\"https://colab.research.google.com/github/megnala/BTE320/blob/main/BTE320_In_Class_Assignments.ipynb\" target=\"_parent\"><img src=\"https://colab.research.google.com/assets/colab-badge.svg\" alt=\"Open In Colab\"/></a>"
      ]
    },
    {
      "cell_type": "code",
      "execution_count": null,
      "metadata": {
        "colab": {
          "base_uri": "https://localhost:8080/"
        },
        "id": "KXI_1RFZydBn",
        "outputId": "9f325437-e210-42fe-e76f-cef21198d18c"
      },
      "outputs": [
        {
          "output_type": "stream",
          "name": "stdout",
          "text": [
            "244.92000000000002\n"
          ]
        }
      ],
      "source": [
        "r = 3\n",
        "h = 10\n",
        "pi = 3.14\n",
        "\n",
        "area = 2 * pi * r ** 2 + 2 * pi * r * h\n",
        "print(area)"
      ]
    },
    {
      "cell_type": "markdown",
      "source": [
        "input 'Hello' --> 'olleH'\n",
        "      'h' --> 'h'\n",
        "\n",
        "      'Hello' --> 'O' + rev('Hello')\n",
        "                            'e' + rev('Hel)\n",
        "                                      'e'  rev ('He)...."
      ],
      "metadata": {
        "id": "Ls0eMVKhVi4e"
      }
    },
    {
      "cell_type": "code",
      "source": [
        "def rev(S):\n",
        "  if len(s) == 1:\n",
        "    return s\n",
        "  else:\n",
        "      return s[-1] + rev(s[:-1])\n",
        "      or\n",
        "      return rev(s[1:]) + s[0]\n",
        "      or\n",
        "\n",
        "rev('Halloween')\n",
        "\n",
        "\n",
        "def rev(S):\n",
        "    if len >= 2:\n",
        "      return s\n",
        "\n",
        "    else:\n",
        "      return rev(s[n:1]) + (s[0])"
      ],
      "metadata": {
        "colab": {
          "base_uri": "https://localhost:8080/",
          "height": 105
        },
        "collapsed": true,
        "id": "rtltpDACUozz",
        "outputId": "205cac19-666b-43f6-b516-1bb1a820ab61"
      },
      "execution_count": 31,
      "outputs": [
        {
          "output_type": "error",
          "ename": "SyntaxError",
          "evalue": "invalid syntax (<ipython-input-31-7382bb19f7ba>, line 6)",
          "traceback": [
            "\u001b[0;36m  File \u001b[0;32m\"<ipython-input-31-7382bb19f7ba>\"\u001b[0;36m, line \u001b[0;32m6\u001b[0m\n\u001b[0;31m    or\u001b[0m\n\u001b[0m    ^\u001b[0m\n\u001b[0;31mSyntaxError\u001b[0m\u001b[0;31m:\u001b[0m invalid syntax\n"
          ]
        }
      ]
    },
    {
      "cell_type": "code",
      "source": [
        "rev (S[1:]) + S[0]\n",
        "  rev('ello') + 'H'\n",
        "  rev('llo') + 'e'\n",
        "  rev('lo') + 'l'\n",
        "  rev('o') + 'l'\n",
        "      'o' + 'l' + 'l' + 'e' + 'H' + 'Helllo'"
      ],
      "metadata": {
        "id": "wvNnICntXr3-"
      },
      "execution_count": 30,
      "outputs": []
    }
  ]
}